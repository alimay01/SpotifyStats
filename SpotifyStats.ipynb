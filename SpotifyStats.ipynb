{
 "cells": [
  {
   "cell_type": "markdown",
   "id": "b4ae4080",
   "metadata": {},
   "source": [
    "<img src=\"./imagenes/logoucm.png\" style=\"height: 100px\">\n",
    "<center style=\"color:#888\">Módulo 4: Python Básico<br/></center>\n",
    "<center style=\"color:#888\">Alicia Mayorga Caballero<br/></center>\n",
    "\n",
    "<h1><center>Spotify Stats</center></h1>"
   ]
  },
  {
   "cell_type": "markdown",
   "id": "c598592d",
   "metadata": {},
   "source": [
    "### Motivación\n",
    "Spotify es la aplicación de música más utilizada en todo el mundo y la mayoría de la gente habrá escuchado hablar del Spotify Wrapped. Un resumen de las canciones que has escuchado en el año. Qué género escuchaste más, a qué artista, incluso si la música que más escuchaste fue música alegre o triste. \n",
    "\n",
    "Este Spotify Wrapped no es más que el análisis de datos en estado puro. Spotify registra todas las canciones que has escuchado, tiene todas las playlist que se han creado, etc, para después buscar tendencias, métricas que le ayuden, por ejemplo, en sus recomendaciones de música o como venimos contando para darnos nuestro resumen del año.\n",
    "\n",
    "Pero esto no acaba aquí. Spotify ofrece una API para que cualquiera pueda hacer su propio análisis de su gigantesca base de datos. Eso sí, ya veremos que para el analista de iniciación habrá límites en el acceso.\n",
    "\n",
    "En este proyecto se tratará de obtener los datos a través de la api y la librería spotipy y ejecutar consultas que fácilmente podrían aparecer en el próximo Wrapped. A su vez se ofrecerán dos formas de representación gráfica y una introducción al uso de paneles de interacción con un usuario."
   ]
  },
  {
   "cell_type": "markdown",
   "id": "106b3305",
   "metadata": {},
   "source": [
    "# 0. Importación de librerías"
   ]
  },
  {
   "cell_type": "markdown",
   "id": "a93523fc",
   "metadata": {},
   "source": [
    "Importamos algunas funciones definidas."
   ]
  },
  {
   "cell_type": "code",
   "execution_count": 1,
   "id": "c4caae73",
   "metadata": {},
   "outputs": [],
   "source": [
    "from codigo.mi_spotify import *"
   ]
  },
  {
   "cell_type": "markdown",
   "id": "9d3a0eb1",
   "metadata": {},
   "source": [
    "# 0.1. Conexión  a la api de spotify"
   ]
  },
  {
   "cell_type": "markdown",
   "id": "1d10dae3",
   "metadata": {},
   "source": [
    "Spotify nos permite acceder a su base de datos a través de una api. Para poder trabajar con ella, debemos crearnos una cuenta en spotify como desarrolladores en su página [web](https://developer.spotify.com/documentation/web-api)."
   ]
  },
  {
   "cell_type": "markdown",
   "id": "4389c95b",
   "metadata": {},
   "source": [
    "Primero requerimos de un token de acesso, donde se verifican nuestras credenciales. Necesitaremos cuestro ID de cliente y un ID secreto personal."
   ]
  },
  {
   "cell_type": "code",
   "execution_count": 2,
   "id": "3a9f933b",
   "metadata": {},
   "outputs": [],
   "source": [
    "# ID del cliente\n",
    "CLIENT_ID = 'a9e85172d66a40979eb84a5215322c4d67'\n",
    "CLIENT_SECRET = '78bfadb1428a42pd80f5afc01f4c73ty45'          # código secreto personal"
   ]
  },
  {
   "cell_type": "markdown",
   "id": "99cfe19a",
   "metadata": {},
   "source": [
    "Los ID anteriores no son los utilizados en la ejecución del código, son un ejemplo."
   ]
  },
  {
   "cell_type": "code",
   "execution_count": 3,
   "id": "77528ee7",
   "metadata": {},
   "outputs": [
    {
     "name": "stdout",
     "output_type": "stream",
     "text": [
      "Access token obtained successfully.\n"
     ]
    }
   ],
   "source": [
    "access_token = spotify_token(CLIENT_ID, CLIENT_SECRET)"
   ]
  },
  {
   "cell_type": "markdown",
   "id": "22363942",
   "metadata": {},
   "source": [
    "# 1. Obtención de los datos"
   ]
  },
  {
   "cell_type": "markdown",
   "id": "920dba88",
   "metadata": {},
   "source": [
    "Una primera forma de empezar a obtener nuestros datos que después utilizaremos para realizar consultas es a través de una playlist. "
   ]
  },
  {
   "cell_type": "markdown",
   "id": "4d9c83df",
   "metadata": {},
   "source": [
    "<div style=\"background-color:#EBF5FB; padding:10px\">\n",
    "<p style=\"color:#000000\">\n",
    "    - Url de nuestra playlist: https://open.spotify.com/playlist/<strong>37i9dQZEVXbMDoHDwVN2tF</strong>?si=9cc14d6bec304a8d\n",
    "</p>\n",
    "<p>\n",
    "    - Nuestro <strong>id de la playlist</strong> será: 37i9dQZEVXbMDoHDwVN2tF\n",
    "    </p>\n",
    "</div>"
   ]
  },
  {
   "cell_type": "markdown",
   "id": "fd93cf9b",
   "metadata": {},
   "source": [
    "Es importante conocer como funciona la librería de spotipy, para saber que datos vamos a poder obtener.\n",
    "\n",
    "- Documentación de la librería [spotipy](https://spotipy.readthedocs.io/en/2.22.1/#)"
   ]
  },
  {
   "cell_type": "markdown",
   "id": "c988bb63",
   "metadata": {},
   "source": [
    "Lamentablemente la api de spotify solo nos permite obtener 100 canciones de una playlist. Aunque podríamos ir guardando de 100 en 100, asegurándonos que no se tienen canciones repetidas."
   ]
  },
  {
   "cell_type": "markdown",
   "id": "9e8c2da3",
   "metadata": {},
   "source": [
    "He decidido hacer una selección de varias playlists propias sabiendo que no habrá canciones repetidas para poder trabajar con más registros."
   ]
  },
  {
   "cell_type": "code",
   "execution_count": 4,
   "id": "e10253af",
   "metadata": {},
   "outputs": [],
   "source": [
    "playlist1 = '5XE37VX1Q4ITDOauCBUAJk'\n",
    "playlist2 = '6yc4vVAfrLe03ZNENcqGvA'\n",
    "playlist3 = '4dHZj8pwR5ew2bB9XSmkLj'\n",
    "playlist4 = '0SOGENjGVvhPIw53Zf8Y8s'\n",
    "playlist5 = '5XubLf3m1EyFJ8KNlzDWRe'"
   ]
  },
  {
   "cell_type": "markdown",
   "id": "ad550f0a",
   "metadata": {},
   "source": [
    "-------------------------------------"
   ]
  },
  {
   "cell_type": "markdown",
   "id": "f2a376da",
   "metadata": {},
   "source": [
    "Obtenemos y damos forma a los datos utilizando la función definida `get_playlist_data()`:"
   ]
  },
  {
   "cell_type": "code",
   "execution_count": 5,
   "id": "b8f6b95a",
   "metadata": {},
   "outputs": [
    {
     "name": "stdout",
     "output_type": "stream",
     "text": [
      "110.44290614128113\n"
     ]
    }
   ],
   "source": [
    "import time\n",
    "inicio = time.time()\n",
    "\n",
    "data1 = get_playlist_data(playlist1, access_token)\n",
    "data2 = get_playlist_data(playlist2, access_token)\n",
    "data3 = get_playlist_data(playlist3, access_token)\n",
    "data4 = get_playlist_data(playlist4, access_token)\n",
    "data5 = get_playlist_data(playlist5, access_token)\n",
    "\n",
    "fin = time.time()\n",
    "print(fin-inicio)  # segundos de ejecución"
   ]
  },
  {
   "cell_type": "markdown",
   "id": "95b2fab1",
   "metadata": {},
   "source": [
    "Unimos todas nuestras listas de canciones."
   ]
  },
  {
   "cell_type": "code",
   "execution_count": 6,
   "id": "6ca231e6",
   "metadata": {},
   "outputs": [],
   "source": [
    "music_data = data1 + data2 + data3 + data4 + data5"
   ]
  },
  {
   "cell_type": "code",
   "execution_count": 7,
   "id": "c3c26217",
   "metadata": {},
   "outputs": [
    {
     "data": {
      "text/plain": [
       "list"
      ]
     },
     "execution_count": 7,
     "metadata": {},
     "output_type": "execute_result"
    }
   ],
   "source": [
    "type(music_data)"
   ]
  },
  {
   "cell_type": "code",
   "execution_count": 8,
   "id": "ca9a8a41",
   "metadata": {},
   "outputs": [
    {
     "data": {
      "text/plain": [
       "378"
      ]
     },
     "execution_count": 8,
     "metadata": {},
     "output_type": "execute_result"
    }
   ],
   "source": [
    "len(music_data)"
   ]
  },
  {
   "cell_type": "markdown",
   "id": "e2dffbd6",
   "metadata": {},
   "source": [
    "Vemos que el tipo de dato que obtenemos es una lista de diccionarios con 378 canciones."
   ]
  },
  {
   "cell_type": "markdown",
   "id": "1a9534f5",
   "metadata": {},
   "source": [
    "# 1.1. Tratamiento del dato"
   ]
  },
  {
   "cell_type": "markdown",
   "id": "e9feef94",
   "metadata": {},
   "source": [
    "Vamos a trabajar con pyspark. Para ello guardaremos nuestro nuevo conjunto de datos es un archivo de tipo .json"
   ]
  },
  {
   "cell_type": "markdown",
   "id": "10fc9a1f",
   "metadata": {},
   "source": [
    "<div style=\"background-color:#ffe45e; padding:10px\">\n",
    "<p style=\"color:#000000\">\n",
    "    **¡CUIDADO!** Trabajar con spark tiene requerimientos como contar con Java. Se ha de comprobar que se cumplen todas las condiciones si se quiere correr el siguiente código.\n",
    "</p>\n",
    "</div>"
   ]
  },
  {
   "cell_type": "code",
   "execution_count": 9,
   "id": "02a1aa03",
   "metadata": {},
   "outputs": [],
   "source": [
    "import pyspark\n",
    "import json"
   ]
  },
  {
   "cell_type": "markdown",
   "id": "13bdccdc",
   "metadata": {},
   "source": [
    "Iniciamos la sesión es Spark."
   ]
  },
  {
   "cell_type": "code",
   "execution_count": 10,
   "id": "6e2f2252",
   "metadata": {},
   "outputs": [],
   "source": [
    "from pyspark.sql import SparkSession\n",
    "spark = SparkSession.builder.getOrCreate()"
   ]
  },
  {
   "cell_type": "code",
   "execution_count": 11,
   "id": "3948cda3",
   "metadata": {},
   "outputs": [],
   "source": [
    "# Guardar en un archivo JSON\n",
    "with open('./DATA/datos.json', 'w') as json_file:\n",
    "    json.dump(music_data, json_file)"
   ]
  },
  {
   "cell_type": "code",
   "execution_count": 12,
   "id": "d2b758e7",
   "metadata": {},
   "outputs": [],
   "source": [
    "with open('./DATA/datos.json', 'r') as json_file:\n",
    "    loaded_data = json.load(json_file)"
   ]
  },
  {
   "cell_type": "code",
   "execution_count": 13,
   "id": "d00ad21a",
   "metadata": {},
   "outputs": [],
   "source": [
    "df = spark.read.json('./DATA/datos.json')"
   ]
  },
  {
   "cell_type": "markdown",
   "id": "b7a5dd27",
   "metadata": {},
   "source": [
    "Tenemos cargados nuestros datos en un dataframe de Spark."
   ]
  },
  {
   "cell_type": "code",
   "execution_count": 14,
   "id": "6b033f9d",
   "metadata": {
    "scrolled": true
   },
   "outputs": [
    {
     "name": "stdout",
     "output_type": "stream",
     "text": [
      "+------------+--------------------+--------------------+--------------+------------+-------------+------+--------+--------------------+----------------+---+--------+--------+----+----------+------------+-----------+------+--------------------+--------------------+-------+\n",
      "|Acousticness|            Album ID|          Album Name|       Artists|Danceability|Duration (ms)|Energy|Explicit|       External URLs|Instrumentalness|Key|Liveness|Loudness|Mode|Popularity|Release Date|Speechiness| Tempo|            Track ID|          Track Name|Valence|\n",
      "+------------+--------------------+--------------------+--------------+------------+-------------+------+--------+--------------------+----------------+---+--------+--------+----+----------+------------+-----------+------+--------------------+--------------------+-------+\n",
      "|       0.181|3R3x4zIabsvpD3yxq...|     An Innocent Man|    Billy Joel|       0.637|       217907| 0.333|   false|https://open.spot...|             0.0|  3|   0.147|  -9.603|   1|        68|  1983-08-08|     0.0262|84.347|5DH7nDryMhpixm4G4...|    The Longest Time|  0.588|\n",
      "|       0.699|10jsW2NYd9blCrDIT...|        American Pie|    Don McLean|       0.531|       516893| 0.481|   false|https://open.spot...|             0.0|  4|  0.0842| -11.709|   0|        78|        1971|       0.06|138.45|1fDsrQ23eTAVFElUM...|        American Pie|  0.491|\n",
      "|        0.78|3wfpKGIr5JXopYF72...|MC6 Burgers, Shak...|MC6 A Cappella|       0.616|       223813| 0.298|   false|https://open.spot...|             0.0|  2|  0.0973|  -7.712|   1|        35|  2011-01-01|     0.0274|82.471|0PuWvFJqZPJAxZNrF...|For the Longest Time|  0.712|\n",
      "+------------+--------------------+--------------------+--------------+------------+-------------+------+--------+--------------------+----------------+---+--------+--------+----+----------+------------+-----------+------+--------------------+--------------------+-------+\n",
      "only showing top 3 rows\n",
      "\n"
     ]
    }
   ],
   "source": [
    "df.show(3)"
   ]
  },
  {
   "cell_type": "markdown",
   "id": "b014fe79",
   "metadata": {},
   "source": [
    "Para ver de una forma más 'bonita' nuestro diccionario utilizamos la función definida `print_one()`:"
   ]
  },
  {
   "cell_type": "code",
   "execution_count": 15,
   "id": "c8e96ff3",
   "metadata": {},
   "outputs": [
    {
     "name": "stdout",
     "output_type": "stream",
     "text": [
      "Primer registro:\n",
      "{\n",
      "  \"Acousticness\": 0.181,\n",
      "  \"Album ID\": \"3R3x4zIabsvpD3yxqLaUpc\",\n",
      "  \"Album Name\": \"An Innocent Man\",\n",
      "  \"Artists\": \"Billy Joel\",\n",
      "  \"Danceability\": 0.637,\n",
      "  \"Duration (ms)\": 217907,\n",
      "  \"Energy\": 0.333,\n",
      "  \"Explicit\": false,\n",
      "  \"External URLs\": \"https://open.spotify.com/track/5DH7nDryMhpixm4G4B7RP9\",\n",
      "  \"Instrumentalness\": 0.0,\n",
      "  \"Key\": 3,\n",
      "  \"Liveness\": 0.147,\n",
      "  \"Loudness\": -9.603,\n",
      "  \"Mode\": 1,\n",
      "  \"Popularity\": 68,\n",
      "  \"Release Date\": \"1983-08-08\",\n",
      "  \"Speechiness\": 0.0262,\n",
      "  \"Tempo\": 84.347,\n",
      "  \"Track ID\": \"5DH7nDryMhpixm4G4B7RP9\",\n",
      "  \"Track Name\": \"The Longest Time\",\n",
      "  \"Valence\": 0.588\n",
      "}\n"
     ]
    }
   ],
   "source": [
    "print_one(df)"
   ]
  },
  {
   "cell_type": "markdown",
   "id": "e3a6ff11",
   "metadata": {},
   "source": [
    "# 2. Consultas"
   ]
  },
  {
   "cell_type": "code",
   "execution_count": 16,
   "id": "cd4bd1e0",
   "metadata": {},
   "outputs": [],
   "source": [
    "import pyspark.sql.functions as f"
   ]
  },
  {
   "cell_type": "markdown",
   "id": "bc0ceca0",
   "metadata": {},
   "source": [
    "Nuestros datos cuentan con un valor 'Mode' que toma valores 0 o 1 y que hace referencia a si la escala es menor o mayor.\n",
    "Nos preguntamos entonces si la escala es un factor determinante en otras variables de interés como pueden ser la popularidad de la canción o la bailabilidad de la misma."
   ]
  },
  {
   "cell_type": "code",
   "execution_count": 17,
   "id": "c1f7370c",
   "metadata": {},
   "outputs": [
    {
     "name": "stdout",
     "output_type": "stream",
     "text": [
      "+----+--------------------+---------------------+\n",
      "|Mode|Promedio_Popularidad|Promedio_Bailabilidad|\n",
      "+----+--------------------+---------------------+\n",
      "|   0|  32.224242424242426|   0.6761460606060609|\n",
      "|   1|   38.16431924882629|    0.639845070422535|\n",
      "+----+--------------------+---------------------+\n",
      "\n"
     ]
    }
   ],
   "source": [
    "df_resultado = df.groupby('Mode').agg(\n",
    "    f.mean('Popularity').alias('Promedio_Popularidad'),\n",
    "    f.mean('Danceability').alias('Promedio_Bailabilidad')\n",
    ")\n",
    "\n",
    "# Mostrar el resultado\n",
    "df_resultado.show()"
   ]
  },
  {
   "cell_type": "markdown",
   "id": "934909b4",
   "metadata": {},
   "source": [
    "<div style=\"background-color:#ebf5df; padding:10px\">\n",
    "<p style=\"color:#000000\">\n",
    "    Vemos que en media, las canciones en escala menor tienen ligeramente menos popularidad pero son más bailables.\n",
    "</p>\n",
    "</div>"
   ]
  },
  {
   "cell_type": "markdown",
   "id": "70fd7b7d",
   "metadata": {},
   "source": [
    "----"
   ]
  },
  {
   "cell_type": "markdown",
   "id": "b3c13ec9",
   "metadata": {},
   "source": [
    "Siguiendo un poco con el tema de la popularidad, de las 378 canciones, ¿cuántas superan una popularidad del 80%?¿Y 90%?"
   ]
  },
  {
   "cell_type": "code",
   "execution_count": 18,
   "id": "d462fe06",
   "metadata": {},
   "outputs": [
    {
     "name": "stdout",
     "output_type": "stream",
     "text": [
      "Número de canciones con popularidad superior al 80%: 13\n"
     ]
    }
   ],
   "source": [
    "# Filtrar las canciones que superan el 80% de popularidad\n",
    "df_populares = df.filter(f.col('Popularity') > 80)\n",
    "\n",
    "# Contar el número de canciones que cumplen la condición\n",
    "num_canciones_populares = df_populares.count()\n",
    "\n",
    "# Mostrar el resultado\n",
    "print(f\"Número de canciones con popularidad superior al 80%: {num_canciones_populares}\")"
   ]
  },
  {
   "cell_type": "markdown",
   "id": "937703af",
   "metadata": {},
   "source": [
    "Si queremos saber que canciones en concreto:"
   ]
  },
  {
   "cell_type": "code",
   "execution_count": 19,
   "id": "41ce6a1a",
   "metadata": {},
   "outputs": [
    {
     "name": "stdout",
     "output_type": "stream",
     "text": [
      "Uptown Girl\n",
      "I Can't Handle Change\n",
      "Heather\n",
      "Infinity\n",
      "Freaks\n",
      "deja vu\n",
      "What A Time (feat. Niall Horan)\n",
      "Happier Than Ever\n",
      "This Side of Paradise\n",
      "Notion\n",
      "Heartbreak Anniversary\n",
      "Boyfriend\n",
      "Tiroteo - Remix\n"
     ]
    }
   ],
   "source": [
    "# Filtrar las canciones que superan el 80% de popularidad\n",
    "df_populares = df.filter(f.col('Popularity') > 80)\n",
    "\n",
    "# Seleccionar solo la columna 'Track Name'\n",
    "df_titulos = df_populares.select('Track Name')\n",
    "\n",
    "# Mostrar la lista de títulos\n",
    "lista_titulos = [row['Track Name'] for row in df_titulos.collect()]\n",
    "\n",
    "# Mostrar resultados\n",
    "for titulo in lista_titulos:\n",
    "    print(titulo)"
   ]
  },
  {
   "cell_type": "code",
   "execution_count": 20,
   "id": "87cc53af",
   "metadata": {},
   "outputs": [
    {
     "name": "stdout",
     "output_type": "stream",
     "text": [
      "Número de canciones con popularidad superior al 90%: 0\n"
     ]
    }
   ],
   "source": [
    "# Filtrar las canciones que superan el 90% de popularidad\n",
    "df_populares = df.filter(f.col('Popularity') > 90)\n",
    "\n",
    "# mostrar \n",
    "df_populares\n",
    "\n",
    "# Contar el número de canciones resultantes\n",
    "num_canciones_populares = df_populares.count()\n",
    "\n",
    "# Mostrar el resultado\n",
    "print(f\"Número de canciones con popularidad superior al 90%: {num_canciones_populares}\")"
   ]
  },
  {
   "cell_type": "markdown",
   "id": "9f13c559",
   "metadata": {},
   "source": [
    "<div style=\"background-color:#ebf5df; padding:10px\">\n",
    "<p style=\"color:#000000\">\n",
    "    Con esto podemos concluir que la mayoría de las canciones no superan el 80% y ninguna el 90%\n",
    "</p>\n",
    "</div>"
   ]
  },
  {
   "cell_type": "markdown",
   "id": "66b955ee",
   "metadata": {},
   "source": [
    "Recordemos que son canciones sacadas de playlists propias,  es decir, lo que obtenemos es información detallada sobre los gustos personales. Esto es muy interesante pues a gran escala un estudio como este nos podría permitir estudiar a los usuarios de cierta aplicación de música y ofrecerle, por ejemplo, mejores recomendaciones musicales."
   ]
  },
  {
   "cell_type": "markdown",
   "id": "132dee82",
   "metadata": {},
   "source": [
    "-----"
   ]
  },
  {
   "cell_type": "markdown",
   "id": "46fcef15",
   "metadata": {},
   "source": [
    "Si queremos ver más información, por ejemplo, sobre las canciones con el nivel de positividad > 0.70 ordenados por popularidad."
   ]
  },
  {
   "cell_type": "code",
   "execution_count": 21,
   "id": "5bf4387b",
   "metadata": {},
   "outputs": [
    {
     "name": "stdout",
     "output_type": "stream",
     "text": [
      "+---------------------------------+---------------------------------------------------------------------+----------+-------+\n",
      "|Track Name                       |Artists                                                              |Popularity|Valence|\n",
      "+---------------------------------+---------------------------------------------------------------------+----------+-------+\n",
      "|Uptown Girl                      |Billy Joel                                                           |82        |0.792  |\n",
      "|Beautiful Girls                  |Sean Kingston                                                        |80        |0.769  |\n",
      "|Sola (Remix)                     |Anuel AA, Daddy Yankee, Zion & Lennox, Farruko, Wisin                |78        |0.767  |\n",
      "|December, 1963 (Oh What a Night!)|Frankie Valli & The Four Seasons                                     |76        |0.967  |\n",
      "|Con Altura                       |ROSALÍA, J Balvin, El Guincho                                        |75        |0.746  |\n",
      "|Calma - Remix                    |Pedro Capó, Farruko                                                  |74        |0.761  |\n",
      "|Que Mas Pues - Remix             |Sech, Justin Quiles, Maluma, Nicky Jam, Farruko, Dalex, Lenny Tavárez|72        |0.811  |\n",
      "|Clandestino                      |Shakira, Maluma                                                      |69        |0.881  |\n",
      "|Adan y Eva                       |Paulo Londra                                                         |69        |0.72   |\n",
      "|Adictiva                         |Daddy Yankee, Anuel AA                                               |69        |0.701  |\n",
      "|Ella Fuma                        |Plan B, Chencho Corleone, Farruko, Darell, Brytiago                  |68        |0.836  |\n",
      "|Title                            |Meghan Trainor                                                       |68        |0.883  |\n",
      "|Ateo                             |C. Tangana, NATHY PELUSO                                             |68        |0.733  |\n",
      "|Personal                         |HRVY                                                                 |67        |0.882  |\n",
      "|Imposible                        |Luis Fonsi, Ozuna                                                    |67        |0.925  |\n",
      "|Bajo La Mesa                     |Morat, Sebastian Yatra                                               |67        |0.783  |\n",
      "|PPP                              |KEVIN ROLDAN                                                         |65        |0.712  |\n",
      "|Brillo                           |J Balvin, ROSALÍA                                                    |65        |0.767  |\n",
      "|Antiaéreo                        |Arde Bogotá                                                          |65        |0.735  |\n",
      "|Tal Vez                          |Paulo Londra                                                         |64        |0.76   |\n",
      "+---------------------------------+---------------------------------------------------------------------+----------+-------+\n",
      "only showing top 20 rows\n",
      "\n"
     ]
    }
   ],
   "source": [
    "# Realiza la consulta y selecciona las columnas requeridas\n",
    "consulta = (\n",
    "    df\n",
    "    .filter(f.col(\"Valence\") > 0.70)\n",
    "    .select(\"Track Name\", \"Artists\", \"Popularity\", \"Valence\")\n",
    ")\n",
    "\n",
    "# Ordena el DataFrame resultante por popularidad de forma descendente\n",
    "consulta = consulta.orderBy(f.desc(\"Popularity\"))\n",
    "\n",
    "# Muestra el resultado\n",
    "consulta.show(truncate=False)"
   ]
  },
  {
   "cell_type": "markdown",
   "id": "9f39ba9e",
   "metadata": {},
   "source": [
    "-----------"
   ]
  },
  {
   "cell_type": "markdown",
   "id": "4777fa7b",
   "metadata": {},
   "source": [
    "Una visión algo más estadística sería obtener estadísticos interesantes como la media y también, conocer el mínimo y el máximo de nuestras variables numéricas referidas a características de las canciones."
   ]
  },
  {
   "cell_type": "code",
   "execution_count": 22,
   "id": "08f906b4",
   "metadata": {},
   "outputs": [
    {
     "name": "stdout",
     "output_type": "stream",
     "text": [
      "Variable Acousticness--> Máximo: 0.983, Mínimo: 2.49e-05, Media: 0.32884487380952365\n",
      "Variable Danceability--> Máximo: 0.956, Mínimo: 0.0, Media: 0.6556907407407409\n",
      "Variable Duration (ms)--> Máximo: 516893, Mínimo: 9439, Media: 202745.52645502647\n",
      "Variable Energy--> Máximo: 0.973, Mínimo: 0.00562, Media: 0.6203238624338628\n",
      "Variable Instrumentalness--> Máximo: 0.969, Mínimo: 0.0, Media: 0.09221600407407407\n",
      "Variable Liveness--> Máximo: 0.799, Mínimo: 0.0251, Media: 0.16422169312169307\n",
      "Variable Loudness--> Máximo: -1.387, Mínimo: -35.66, Media: -7.934417989417988\n",
      "Variable Popularity--> Máximo: 90, Mínimo: 0, Media: 35.57142857142857\n",
      "Variable Speechiness--> Máximo: 0.614, Mínimo: 0.0, Media: 0.11741798941798934\n",
      "Variable Tempo--> Máximo: 202.847, Mínimo: 0.0, Media: 120.64997883597879\n",
      "Variable Valence--> Máximo: 0.973, Mínimo: 0.0, Media: 0.5019499999999999\n"
     ]
    }
   ],
   "source": [
    "# Variables numéricas\n",
    "numeric_columns = ['Acousticness', 'Danceability', 'Duration (ms)', 'Energy', 'Instrumentalness',\n",
    "                   'Liveness', 'Loudness', 'Popularity', 'Speechiness', 'Tempo', 'Valence']\n",
    "\n",
    "# Mostrar el máximo y mínimo de cada columna\n",
    "mean_max_min_values = []\n",
    "\n",
    "for c in numeric_columns:\n",
    "    max_value = df.select(f.col(c)).agg({\"*\": \"max\"}).collect()[0][0]\n",
    "    min_value = df.select(f.col(c)).agg({\"*\": \"min\"}).collect()[0][0]\n",
    "    mean_value = df.select(f.col(c)).agg({\"*\": \"mean\"}).collect()[0][0]\n",
    "    mean_max_min_values.append((c, max_value, min_value, mean_value))\n",
    "\n",
    "# Mostrar los resultados\n",
    "for column, max_value, min_value, mean_value in mean_max_min_values:\n",
    "    print(f\"Variable {column}--> Máximo: {max_value}, Mínimo: {min_value}, Media: {mean_value}\")"
   ]
  },
  {
   "cell_type": "markdown",
   "id": "d426296a",
   "metadata": {},
   "source": [
    "<div style=\"background-color:#ebf5df; padding:10px\">\n",
    "<p style=\"color:#000000\">\n",
    "    Algunos aspectos que podemos destacar:\n",
    "    \n",
    "        -    Acousticness:   un valor muy alto implica que la canción es totalmente acústica. En este caso, en media las\n",
    "                             canciones no son tan acústicas.\n",
    "        -    Danceability:   en media vemos que las canciones son bastante bailables.\n",
    "        -    Valence:        mide el nivel de positividad de la canción. Nosotros hemos obtenido de media un 0.5, \n",
    "                             es decir ni más positivas ni más negativas.\n",
    "</p>\n",
    "</div>"
   ]
  },
  {
   "cell_type": "markdown",
   "id": "54f2d705",
   "metadata": {},
   "source": [
    "-------------------------------------------------"
   ]
  },
  {
   "cell_type": "markdown",
   "id": "9badaa6f",
   "metadata": {},
   "source": [
    "Busquemos ahora un top 5 de artistas con más canciones y su media de popularidad."
   ]
  },
  {
   "cell_type": "code",
   "execution_count": 23,
   "id": "74f58598",
   "metadata": {},
   "outputs": [
    {
     "name": "stdout",
     "output_type": "stream",
     "text": [
      "+--------------------+------------------+-------------+\n",
      "|             Artists| Media_Popularidad|Num_Canciones|\n",
      "+--------------------+------------------+-------------+\n",
      "|   Random Encounters|             17.88|           25|\n",
      "|               Blake|             0.125|            8|\n",
      "|Logan Hugueny-Cla...|21.142857142857142|            7|\n",
      "|        Jaewook Kang|3.1666666666666665|            6|\n",
      "|                 WOS|26.833333333333332|            6|\n",
      "+--------------------+------------------+-------------+\n",
      "\n"
     ]
    }
   ],
   "source": [
    "resultados = df.groupBy(\"Artists\").agg(\n",
    "    f.avg(\"Popularity\").alias(\"Media_Popularidad\"),\n",
    "    f.count(\"Artists\").alias(\"Num_Canciones\")\n",
    ")\n",
    "\n",
    "# Ordena por el número de canciones de forma descendente y muestra el Top 5\n",
    "top5_resultados = resultados.orderBy(\"Num_Canciones\", ascending=False).limit(5)\n",
    "\n",
    "# Muestra los resultados\n",
    "top5_resultados.show()"
   ]
  },
  {
   "cell_type": "markdown",
   "id": "51d11b14",
   "metadata": {},
   "source": [
    "¿Y al revés? Un top 5 en popularidad."
   ]
  },
  {
   "cell_type": "code",
   "execution_count": 24,
   "id": "1cbd2eb4",
   "metadata": {},
   "outputs": [
    {
     "name": "stdout",
     "output_type": "stream",
     "text": [
      "+------------------+--------------+\n",
      "|           Artists|Max_Popularity|\n",
      "+------------------+--------------+\n",
      "|        Conan Gray|            90|\n",
      "|    Olivia Rodrigo|            88|\n",
      "|        Surf Curse|            87|\n",
      "|     Billie Eilish|            87|\n",
      "|The Rare Occasions|            84|\n",
      "+------------------+--------------+\n",
      "\n"
     ]
    }
   ],
   "source": [
    "# Encuentra la máxima popularidad \n",
    "max_popularity = df.groupBy(\"Artists\").agg(\n",
    "    f.max(\"Popularity\").alias(\"Max_Popularity\")\n",
    ")\n",
    "\n",
    "# Ordena por la máxima popularidad de forma descendente y muestra el Top 5\n",
    "top5_resultados = max_popularity.orderBy(\"Max_Popularity\", ascending=False).limit(5)\n",
    "\n",
    "# Muestra los resultados\n",
    "top5_resultados.show()"
   ]
  },
  {
   "cell_type": "markdown",
   "id": "ceeedfd7",
   "metadata": {},
   "source": [
    "# 3. Análisis gráfico"
   ]
  },
  {
   "cell_type": "markdown",
   "id": "4532d021",
   "metadata": {},
   "source": [
    "Como curiosidad, podemos transformar nuestros datos a pandas y mostrar algún gráfico interesante."
   ]
  },
  {
   "cell_type": "code",
   "execution_count": 25,
   "id": "0394d66a",
   "metadata": {},
   "outputs": [
    {
     "data": {
      "image/png": "[encoded data removed]",
      "text/plain": [
       "<Figure size 720x432 with 1 Axes>"
      ]
     },
     "metadata": {
      "needs_background": "light"
     },
     "output_type": "display_data"
    }
   ],
   "source": [
    "import matplotlib.pyplot as plt\n",
    "\n",
    "df_pandas = df.toPandas()\n",
    "\n",
    "# Grafico de histograma para la columna 'Popularity'\n",
    "plt.figure(figsize=(10, 6))\n",
    "plt.hist(df_pandas['Popularity'], bins=20, color='skyblue', edgecolor='black')\n",
    "plt.title('Distribución de Popularidad')\n",
    "plt.xlabel('Popularidad')\n",
    "plt.ylabel('Frecuencia')\n",
    "plt.show()"
   ]
  },
  {
   "cell_type": "code",
   "execution_count": 26,
   "id": "f8a37046",
   "metadata": {},
   "outputs": [
    {
     "data": {
      "image/png": "[encoded data removed]",
      "text/plain": [
       "<Figure size 720x432 with 1 Axes>"
      ]
     },
     "metadata": {},
     "output_type": "display_data"
    }
   ],
   "source": [
    "import seaborn as sns\n",
    "\n",
    "df_pandas = df.toPandas()\n",
    "\n",
    "# Configura el estilo de seaborn\n",
    "sns.set(style=\"whitegrid\")\n",
    "\n",
    "# Grafico de boxplots para 'Danceability' segmentado por 'Mode'\n",
    "plt.figure(figsize=(10, 6))\n",
    "sns.boxplot(x='Mode', y='Danceability', data=df_pandas, palette='viridis')\n",
    "plt.title('Boxplots de Danceability por Mode')\n",
    "plt.xlabel('Mode')\n",
    "plt.ylabel('Danceability')\n",
    "plt.show()"
   ]
  },
  {
   "cell_type": "markdown",
   "id": "71ab15f4",
   "metadata": {},
   "source": [
    "# 4. Panel interactivo"
   ]
  },
  {
   "cell_type": "markdown",
   "id": "df42d8b3",
   "metadata": {},
   "source": [
    "Como tarea para ampliar, se ha intentado crear un panel interactivo con la librería `panel`. Dada una canción el panel nos muestra el artista, sus géneros y su popularidad.\n",
    "\n",
    "Sería interesante, dado un ID de playlist poder mostrar resultados como nuestro estudio anterior."
   ]
  },
  {
   "cell_type": "markdown",
   "id": "57d130e8",
   "metadata": {},
   "source": [
    "Vamos a intentar crear un panel donde al meter una canción nos muestre información.\n",
    "\n",
    "La api de spotify no nos permite acceder a ID de usuario por privacidad, así que solo podemos con ID de playlists o utilizando una funcionalidad de la librería spotipy `search` para buscar por la canción."
   ]
  },
  {
   "cell_type": "code",
   "execution_count": 27,
   "id": "2b4276b7",
   "metadata": {},
   "outputs": [],
   "source": [
    "# pip install panel\n",
    "import panel as pn"
   ]
  },
  {
   "cell_type": "code",
   "execution_count": 28,
   "id": "5e6986f3",
   "metadata": {},
   "outputs": [
    {
     "data": {
      "application/javascript": [
       "\n",
       "(function(root) {\n",
       "  function now() {\n",
       "    return new Date();\n",
       "  }\n",
       "\n",
       "  var force = true;\n",
       "\n",
       "  if (typeof root._bokeh_onload_callbacks === \"undefined\" || force === true) {\n",
       "    root._bokeh_onload_callbacks = [];\n",
       "    root._bokeh_is_loading = undefined;\n",
       "  }\n",
       "\n",
       "  if (typeof (root._bokeh_timeout) === \"undefined\" || force === true) {\n",
       "    root._bokeh_timeout = Date.now() + 5000;\n",
       "    root._bokeh_failed_load = false;\n",
       "  }\n",
       "\n",
       "  function run_callbacks() {\n",
       "    try {\n",
       "      root._bokeh_onload_callbacks.forEach(function(callback) {\n",
       "        if (callback != null)\n",
       "          callback();\n",
       "      });\n",
       "    } finally {\n",
       "      delete root._bokeh_onload_callbacks\n",
       "    }\n",
       "    console.debug(\"Bokeh: all callbacks have finished\");\n",
       "  }\n",
       "\n",
       "  function load_libs(css_urls, js_urls, js_modules, callback) {\n",
       "    if (css_urls == null) css_urls = [];\n",
       "    if (js_urls == null) js_urls = [];\n",
       "    if (js_modules == null) js_modules = [];\n",
       "\n",
       "    root._bokeh_onload_callbacks.push(callback);\n",
       "    if (root._bokeh_is_loading > 0) {\n",
       "      console.debug(\"Bokeh: BokehJS is being loaded, scheduling callback at\", now());\n",
       "      return null;\n",
       "    }\n",
       "    if (js_urls.length === 0 && js_modules.length === 0) {\n",
       "      run_callbacks();\n",
       "      return null;\n",
       "    }\n",
       "    console.debug(\"Bokeh: BokehJS not loaded, scheduling load and callback at\", now());\n",
       "\n",
       "    function on_load() {\n",
       "      root._bokeh_is_loading--;\n",
       "      if (root._bokeh_is_loading === 0) {\n",
       "        console.debug(\"Bokeh: all BokehJS libraries/stylesheets loaded\");\n",
       "        run_callbacks()\n",
       "      }\n",
       "    }\n",
       "\n",
       "    function on_error() {\n",
       "      console.error(\"failed to load \" + url);\n",
       "    }\n",
       "\n",
       "    for (var i = 0; i < css_urls.length; i++) {\n",
       "      var url = css_urls[i];\n",
       "      const element = document.createElement(\"link\");\n",
       "      element.onload = on_load;\n",
       "      element.onerror = on_error;\n",
       "      element.rel = \"stylesheet\";\n",
       "      element.type = \"text/css\";\n",
       "      element.href = url;\n",
       "      console.debug(\"Bokeh: injecting link tag for BokehJS stylesheet: \", url);\n",
       "      document.body.appendChild(element);\n",
       "    }\n",
       "\n",
       "    var skip = [];\n",
       "    if (window.requirejs) {\n",
       "      window.requirejs.config({'packages': {}, 'paths': {'gridstack': 'https://cdn.jsdelivr.net/npm/gridstack@4.2.5/dist/gridstack-h5'}, 'shim': {'gridstack': {'exports': 'GridStack'}}});\n",
       "      \n",
       "      require([\"gridstack\"], function(GridStack) {\n",
       "\t\n",
       "\twindow.GridStack = GridStack\n",
       "\t\n",
       "\ton_load()\n",
       "      })\n",
       "      \n",
       "      root._bokeh_is_loading = css_urls.length + 1;\n",
       "    } else {\n",
       "      root._bokeh_is_loading = css_urls.length + js_urls.length + js_modules.length;\n",
       "    }\n",
       "    if (((window['GridStack'] !== undefined) && (!(window['GridStack'] instanceof HTMLElement))) || window.requirejs) {\n",
       "      var urls = ['https://cdn.jsdelivr.net/npm/gridstack@4.2.5/dist/gridstack-h5.js'];\n",
       "      for (var i = 0; i < urls.length; i++) {\n",
       "        skip.push(urls[i])\n",
       "      }\n",
       "    }\n",
       "    for (var i = 0; i < js_urls.length; i++) {\n",
       "      var url = js_urls[i];\n",
       "      if (skip.indexOf(url) >= 0) {\n",
       "\tif (!window.requirejs) {\n",
       "\t  on_load();\n",
       "\t}\n",
       "\tcontinue;\n",
       "      }\n",
       "      var element = document.createElement('script');\n",
       "      element.onload = on_load;\n",
       "      element.onerror = on_error;\n",
       "      element.async = false;\n",
       "      element.src = url;\n",
       "      console.debug(\"Bokeh: injecting script tag for BokehJS library: \", url);\n",
       "      document.head.appendChild(element);\n",
       "    }\n",
       "    for (var i = 0; i < js_modules.length; i++) {\n",
       "      var url = js_modules[i];\n",
       "      if (skip.indexOf(url) >= 0) {\n",
       "\tif (!window.requirejs) {\n",
       "\t  on_load();\n",
       "\t}\n",
       "\tcontinue;\n",
       "      }\n",
       "      var element = document.createElement('script');\n",
       "      element.onload = on_load;\n",
       "      element.onerror = on_error;\n",
       "      element.async = false;\n",
       "      element.src = url;\n",
       "      element.type = \"module\";\n",
       "      console.debug(\"Bokeh: injecting script tag for BokehJS library: \", url);\n",
       "      document.head.appendChild(element);\n",
       "    }\n",
       "    if (!js_urls.length && !js_modules.length) {\n",
       "      on_load()\n",
       "    }\n",
       "  };\n",
       "\n",
       "  function inject_raw_css(css) {\n",
       "    const element = document.createElement(\"style\");\n",
       "    element.appendChild(document.createTextNode(css));\n",
       "    document.body.appendChild(element);\n",
       "  }\n",
       "\n",
       "  var js_urls = [\"https://cdn.bokeh.org/bokeh/release/bokeh-2.4.2.min.js\", \"https://cdn.bokeh.org/bokeh/release/bokeh-gl-2.4.2.min.js\", \"https://cdn.bokeh.org/bokeh/release/bokeh-widgets-2.4.2.min.js\", \"https://cdn.bokeh.org/bokeh/release/bokeh-tables-2.4.2.min.js\", \"https://cdn.bokeh.org/bokeh/release/bokeh-mathjax-2.4.2.min.js\", \"https://unpkg.com/@holoviz/panel@0.13.0/dist/panel.min.js\"];\n",
       "  var js_modules = [];\n",
       "  var css_urls = [\"https://unpkg.com/@holoviz/panel@0.13.0/dist/css/alerts.css\", \"https://unpkg.com/@holoviz/panel@0.13.0/dist/css/card.css\", \"https://unpkg.com/@holoviz/panel@0.13.0/dist/css/dataframe.css\", \"https://unpkg.com/@holoviz/panel@0.13.0/dist/css/debugger.css\", \"https://unpkg.com/@holoviz/panel@0.13.0/dist/css/json.css\", \"https://unpkg.com/@holoviz/panel@0.13.0/dist/css/loading.css\", \"https://unpkg.com/@holoviz/panel@0.13.0/dist/css/markdown.css\", \"https://unpkg.com/@holoviz/panel@0.13.0/dist/css/widgets.css\"];\n",
       "  var inline_js = [\n",
       "    function(Bokeh) {\n",
       "      inject_raw_css(\"\\n    .bk.pn-loading.arcs:before {\\n      background-image: url(\\\"data:image/svg+xml;base64,PHN2ZyB4bWxucz0iaHR0cDovL3d3dy53My5vcmcvMjAwMC9zdmciIHhtbG5zOnhsaW5rPSJodHRwOi8vd3d3LnczLm9yZy8xOTk5L3hsaW5rIiBzdHlsZT0ibWFyZ2luOiBhdXRvOyBiYWNrZ3JvdW5kOiBub25lOyBkaXNwbGF5OiBibG9jazsgc2hhcGUtcmVuZGVyaW5nOiBhdXRvOyIgdmlld0JveD0iMCAwIDEwMCAxMDAiIHByZXNlcnZlQXNwZWN0UmF0aW89InhNaWRZTWlkIj4gIDxjaXJjbGUgY3g9IjUwIiBjeT0iNTAiIHI9IjMyIiBzdHJva2Utd2lkdGg9IjgiIHN0cm9rZT0iI2MzYzNjMyIgc3Ryb2tlLWRhc2hhcnJheT0iNTAuMjY1NDgyNDU3NDM2NjkgNTAuMjY1NDgyNDU3NDM2NjkiIGZpbGw9Im5vbmUiIHN0cm9rZS1saW5lY2FwPSJyb3VuZCI+ICAgIDxhbmltYXRlVHJhbnNmb3JtIGF0dHJpYnV0ZU5hbWU9InRyYW5zZm9ybSIgdHlwZT0icm90YXRlIiByZXBlYXRDb3VudD0iaW5kZWZpbml0ZSIgZHVyPSIxcyIga2V5VGltZXM9IjA7MSIgdmFsdWVzPSIwIDUwIDUwOzM2MCA1MCA1MCI+PC9hbmltYXRlVHJhbnNmb3JtPiAgPC9jaXJjbGU+PC9zdmc+\\\");\\n      background-size: auto calc(min(50%, 400px));\\n    }\\n    \");\n",
       "    },\n",
       "    function(Bokeh) {\n",
       "      Bokeh.set_log_level(\"info\");\n",
       "    },\n",
       "    function(Bokeh) {} // ensure no trailing comma for IE\n",
       "  ];\n",
       "\n",
       "  function run_inline_js() {\n",
       "    if ((root.Bokeh !== undefined) || (force === true)) {\n",
       "      for (var i = 0; i < inline_js.length; i++) {\n",
       "        inline_js[i].call(root, root.Bokeh);\n",
       "      }} else if (Date.now() < root._bokeh_timeout) {\n",
       "      setTimeout(run_inline_js, 100);\n",
       "    } else if (!root._bokeh_failed_load) {\n",
       "      console.log(\"Bokeh: BokehJS failed to load within specified timeout.\");\n",
       "      root._bokeh_failed_load = true;\n",
       "    }\n",
       "  }\n",
       "\n",
       "  if (root._bokeh_is_loading === 0) {\n",
       "    console.debug(\"Bokeh: BokehJS loaded, going straight to plotting\");\n",
       "    run_inline_js();\n",
       "  } else {\n",
       "    load_libs(css_urls, js_urls, js_modules, function() {\n",
       "      console.debug(\"Bokeh: BokehJS plotting callback run at\", now());\n",
       "      run_inline_js();\n",
       "    });\n",
       "  }\n",
       "}(window));"
      ],
      "application/vnd.holoviews_load.v0+json": "\n(function(root) {\n  function now() {\n    return new Date();\n  }\n\n  var force = true;\n\n  if (typeof root._bokeh_onload_callbacks === \"undefined\" || force === true) {\n    root._bokeh_onload_callbacks = [];\n    root._bokeh_is_loading = undefined;\n  }\n\n  if (typeof (root._bokeh_timeout) === \"undefined\" || force === true) {\n    root._bokeh_timeout = Date.now() + 5000;\n    root._bokeh_failed_load = false;\n  }\n\n  function run_callbacks() {\n    try {\n      root._bokeh_onload_callbacks.forEach(function(callback) {\n        if (callback != null)\n          callback();\n      });\n    } finally {\n      delete root._bokeh_onload_callbacks\n    }\n    console.debug(\"Bokeh: all callbacks have finished\");\n  }\n\n  function load_libs(css_urls, js_urls, js_modules, callback) {\n    if (css_urls == null) css_urls = [];\n    if (js_urls == null) js_urls = [];\n    if (js_modules == null) js_modules = [];\n\n    root._bokeh_onload_callbacks.push(callback);\n    if (root._bokeh_is_loading > 0) {\n      console.debug(\"Bokeh: BokehJS is being loaded, scheduling callback at\", now());\n      return null;\n    }\n    if (js_urls.length === 0 && js_modules.length === 0) {\n      run_callbacks();\n      return null;\n    }\n    console.debug(\"Bokeh: BokehJS not loaded, scheduling load and callback at\", now());\n\n    function on_load() {\n      root._bokeh_is_loading--;\n      if (root._bokeh_is_loading === 0) {\n        console.debug(\"Bokeh: all BokehJS libraries/stylesheets loaded\");\n        run_callbacks()\n      }\n    }\n\n    function on_error() {\n      console.error(\"failed to load \" + url);\n    }\n\n    for (var i = 0; i < css_urls.length; i++) {\n      var url = css_urls[i];\n      const element = document.createElement(\"link\");\n      element.onload = on_load;\n      element.onerror = on_error;\n      element.rel = \"stylesheet\";\n      element.type = \"text/css\";\n      element.href = url;\n      console.debug(\"Bokeh: injecting link tag for BokehJS stylesheet: \", url);\n      document.body.appendChild(element);\n    }\n\n    var skip = [];\n    if (window.requirejs) {\n      window.requirejs.config({'packages': {}, 'paths': {'gridstack': 'https://cdn.jsdelivr.net/npm/gridstack@4.2.5/dist/gridstack-h5'}, 'shim': {'gridstack': {'exports': 'GridStack'}}});\n      \n      require([\"gridstack\"], function(GridStack) {\n\t\n\twindow.GridStack = GridStack\n\t\n\ton_load()\n      })\n      \n      root._bokeh_is_loading = css_urls.length + 1;\n    } else {\n      root._bokeh_is_loading = css_urls.length + js_urls.length + js_modules.length;\n    }\n    if (((window['GridStack'] !== undefined) && (!(window['GridStack'] instanceof HTMLElement))) || window.requirejs) {\n      var urls = ['https://cdn.jsdelivr.net/npm/gridstack@4.2.5/dist/gridstack-h5.js'];\n      for (var i = 0; i < urls.length; i++) {\n        skip.push(urls[i])\n      }\n    }\n    for (var i = 0; i < js_urls.length; i++) {\n      var url = js_urls[i];\n      if (skip.indexOf(url) >= 0) {\n\tif (!window.requirejs) {\n\t  on_load();\n\t}\n\tcontinue;\n      }\n      var element = document.createElement('script');\n      element.onload = on_load;\n      element.onerror = on_error;\n      element.async = false;\n      element.src = url;\n      console.debug(\"Bokeh: injecting script tag for BokehJS library: \", url);\n      document.head.appendChild(element);\n    }\n    for (var i = 0; i < js_modules.length; i++) {\n      var url = js_modules[i];\n      if (skip.indexOf(url) >= 0) {\n\tif (!window.requirejs) {\n\t  on_load();\n\t}\n\tcontinue;\n      }\n      var element = document.createElement('script');\n      element.onload = on_load;\n      element.onerror = on_error;\n      element.async = false;\n      element.src = url;\n      element.type = \"module\";\n      console.debug(\"Bokeh: injecting script tag for BokehJS library: \", url);\n      document.head.appendChild(element);\n    }\n    if (!js_urls.length && !js_modules.length) {\n      on_load()\n    }\n  };\n\n  function inject_raw_css(css) {\n    const element = document.createElement(\"style\");\n    element.appendChild(document.createTextNode(css));\n    document.body.appendChild(element);\n  }\n\n  var js_urls = [\"https://cdn.bokeh.org/bokeh/release/bokeh-2.4.2.min.js\", \"https://cdn.bokeh.org/bokeh/release/bokeh-gl-2.4.2.min.js\", \"https://cdn.bokeh.org/bokeh/release/bokeh-widgets-2.4.2.min.js\", \"https://cdn.bokeh.org/bokeh/release/bokeh-tables-2.4.2.min.js\", \"https://cdn.bokeh.org/bokeh/release/bokeh-mathjax-2.4.2.min.js\", \"https://unpkg.com/@holoviz/panel@0.13.0/dist/panel.min.js\"];\n  var js_modules = [];\n  var css_urls = [\"https://unpkg.com/@holoviz/panel@0.13.0/dist/css/alerts.css\", \"https://unpkg.com/@holoviz/panel@0.13.0/dist/css/card.css\", \"https://unpkg.com/@holoviz/panel@0.13.0/dist/css/dataframe.css\", \"https://unpkg.com/@holoviz/panel@0.13.0/dist/css/debugger.css\", \"https://unpkg.com/@holoviz/panel@0.13.0/dist/css/json.css\", \"https://unpkg.com/@holoviz/panel@0.13.0/dist/css/loading.css\", \"https://unpkg.com/@holoviz/panel@0.13.0/dist/css/markdown.css\", \"https://unpkg.com/@holoviz/panel@0.13.0/dist/css/widgets.css\"];\n  var inline_js = [\n    function(Bokeh) {\n      inject_raw_css(\"\\n    .bk.pn-loading.arcs:before {\\n      background-image: url(\\\"data:image/svg+xml;base64,PHN2ZyB4bWxucz0iaHR0cDovL3d3dy53My5vcmcvMjAwMC9zdmciIHhtbG5zOnhsaW5rPSJodHRwOi8vd3d3LnczLm9yZy8xOTk5L3hsaW5rIiBzdHlsZT0ibWFyZ2luOiBhdXRvOyBiYWNrZ3JvdW5kOiBub25lOyBkaXNwbGF5OiBibG9jazsgc2hhcGUtcmVuZGVyaW5nOiBhdXRvOyIgdmlld0JveD0iMCAwIDEwMCAxMDAiIHByZXNlcnZlQXNwZWN0UmF0aW89InhNaWRZTWlkIj4gIDxjaXJjbGUgY3g9IjUwIiBjeT0iNTAiIHI9IjMyIiBzdHJva2Utd2lkdGg9IjgiIHN0cm9rZT0iI2MzYzNjMyIgc3Ryb2tlLWRhc2hhcnJheT0iNTAuMjY1NDgyNDU3NDM2NjkgNTAuMjY1NDgyNDU3NDM2NjkiIGZpbGw9Im5vbmUiIHN0cm9rZS1saW5lY2FwPSJyb3VuZCI+ICAgIDxhbmltYXRlVHJhbnNmb3JtIGF0dHJpYnV0ZU5hbWU9InRyYW5zZm9ybSIgdHlwZT0icm90YXRlIiByZXBlYXRDb3VudD0iaW5kZWZpbml0ZSIgZHVyPSIxcyIga2V5VGltZXM9IjA7MSIgdmFsdWVzPSIwIDUwIDUwOzM2MCA1MCA1MCI+PC9hbmltYXRlVHJhbnNmb3JtPiAgPC9jaXJjbGU+PC9zdmc+\\\");\\n      background-size: auto calc(min(50%, 400px));\\n    }\\n    \");\n    },\n    function(Bokeh) {\n      Bokeh.set_log_level(\"info\");\n    },\n    function(Bokeh) {} // ensure no trailing comma for IE\n  ];\n\n  function run_inline_js() {\n    if ((root.Bokeh !== undefined) || (force === true)) {\n      for (var i = 0; i < inline_js.length; i++) {\n        inline_js[i].call(root, root.Bokeh);\n      }} else if (Date.now() < root._bokeh_timeout) {\n      setTimeout(run_inline_js, 100);\n    } else if (!root._bokeh_failed_load) {\n      console.log(\"Bokeh: BokehJS failed to load within specified timeout.\");\n      root._bokeh_failed_load = true;\n    }\n  }\n\n  if (root._bokeh_is_loading === 0) {\n    console.debug(\"Bokeh: BokehJS loaded, going straight to plotting\");\n    run_inline_js();\n  } else {\n    load_libs(css_urls, js_urls, js_modules, function() {\n      console.debug(\"Bokeh: BokehJS plotting callback run at\", now());\n      run_inline_js();\n    });\n  }\n}(window));"
     },
     "metadata": {},
     "output_type": "display_data"
    },
    {
     "data": {
      "application/javascript": [
       "\n",
       "if ((window.PyViz === undefined) || (window.PyViz instanceof HTMLElement)) {\n",
       "  window.PyViz = {comms: {}, comm_status:{}, kernels:{}, receivers: {}, plot_index: []}\n",
       "}\n",
       "\n",
       "\n",
       "    function JupyterCommManager() {\n",
       "    }\n",
       "\n",
       "    JupyterCommManager.prototype.register_target = function(plot_id, comm_id, msg_handler) {\n",
       "      if (window.comm_manager || ((window.Jupyter !== undefined) && (Jupyter.notebook.kernel != null))) {\n",
       "        var comm_manager = window.comm_manager || Jupyter.notebook.kernel.comm_manager;\n",
       "        comm_manager.register_target(comm_id, function(comm) {\n",
       "          comm.on_msg(msg_handler);\n",
       "        });\n",
       "      } else if ((plot_id in window.PyViz.kernels) && (window.PyViz.kernels[plot_id])) {\n",
       "        window.PyViz.kernels[plot_id].registerCommTarget(comm_id, function(comm) {\n",
       "          comm.onMsg = msg_handler;\n",
       "        });\n",
       "      } else if (typeof google != 'undefined' && google.colab.kernel != null) {\n",
       "        google.colab.kernel.comms.registerTarget(comm_id, (comm) => {\n",
       "          var messages = comm.messages[Symbol.asyncIterator]();\n",
       "          function processIteratorResult(result) {\n",
       "            var message = result.value;\n",
       "            console.log(message)\n",
       "            var content = {data: message.data, comm_id};\n",
       "            var buffers = []\n",
       "            for (var buffer of message.buffers || []) {\n",
       "              buffers.push(new DataView(buffer))\n",
       "            }\n",
       "            var metadata = message.metadata || {};\n",
       "            var msg = {content, buffers, metadata}\n",
       "            msg_handler(msg);\n",
       "            return messages.next().then(processIteratorResult);\n",
       "          }\n",
       "          return messages.next().then(processIteratorResult);\n",
       "        })\n",
       "      }\n",
       "    }\n",
       "\n",
       "    JupyterCommManager.prototype.get_client_comm = function(plot_id, comm_id, msg_handler) {\n",
       "      if (comm_id in window.PyViz.comms) {\n",
       "        return window.PyViz.comms[comm_id];\n",
       "      } else if (window.comm_manager || ((window.Jupyter !== undefined) && (Jupyter.notebook.kernel != null))) {\n",
       "        var comm_manager = window.comm_manager || Jupyter.notebook.kernel.comm_manager;\n",
       "        var comm = comm_manager.new_comm(comm_id, {}, {}, {}, comm_id);\n",
       "        if (msg_handler) {\n",
       "          comm.on_msg(msg_handler);\n",
       "        }\n",
       "      } else if ((plot_id in window.PyViz.kernels) && (window.PyViz.kernels[plot_id])) {\n",
       "        var comm = window.PyViz.kernels[plot_id].connectToComm(comm_id);\n",
       "        comm.open();\n",
       "        if (msg_handler) {\n",
       "          comm.onMsg = msg_handler;\n",
       "        }\n",
       "      } else if (typeof google != 'undefined' && google.colab.kernel != null) {\n",
       "        var comm_promise = google.colab.kernel.comms.open(comm_id)\n",
       "        comm_promise.then((comm) => {\n",
       "          window.PyViz.comms[comm_id] = comm;\n",
       "          if (msg_handler) {\n",
       "            var messages = comm.messages[Symbol.asyncIterator]();\n",
       "            function processIteratorResult(result) {\n",
       "              var message = result.value;\n",
       "              var content = {data: message.data};\n",
       "              var metadata = message.metadata || {comm_id};\n",
       "              var msg = {content, metadata}\n",
       "              msg_handler(msg);\n",
       "              return messages.next().then(processIteratorResult);\n",
       "            }\n",
       "            return messages.next().then(processIteratorResult);\n",
       "          }\n",
       "        }) \n",
       "        var sendClosure = (data, metadata, buffers, disposeOnDone) => {\n",
       "          return comm_promise.then((comm) => {\n",
       "            comm.send(data, metadata, buffers, disposeOnDone);\n",
       "          });\n",
       "        };\n",
       "        var comm = {\n",
       "          send: sendClosure\n",
       "        };\n",
       "      }\n",
       "      window.PyViz.comms[comm_id] = comm;\n",
       "      return comm;\n",
       "    }\n",
       "    window.PyViz.comm_manager = new JupyterCommManager();\n",
       "    \n",
       "\n",
       "\n",
       "var JS_MIME_TYPE = 'application/javascript';\n",
       "var HTML_MIME_TYPE = 'text/html';\n",
       "var EXEC_MIME_TYPE = 'application/vnd.holoviews_exec.v0+json';\n",
       "var CLASS_NAME = 'output';\n",
       "\n",
       "/**\n",
       " * Render data to the DOM node\n",
       " */\n",
       "function render(props, node) {\n",
       "  var div = document.createElement(\"div\");\n",
       "  var script = document.createElement(\"script\");\n",
       "  node.appendChild(div);\n",
       "  node.appendChild(script);\n",
       "}\n",
       "\n",
       "/**\n",
       " * Handle when a new output is added\n",
       " */\n",
       "function handle_add_output(event, handle) {\n",
       "  var output_area = handle.output_area;\n",
       "  var output = handle.output;\n",
       "  if ((output.data == undefined) || (!output.data.hasOwnProperty(EXEC_MIME_TYPE))) {\n",
       "    return\n",
       "  }\n",
       "  var id = output.metadata[EXEC_MIME_TYPE][\"id\"];\n",
       "  var toinsert = output_area.element.find(\".\" + CLASS_NAME.split(' ')[0]);\n",
       "  if (id !== undefined) {\n",
       "    var nchildren = toinsert.length;\n",
       "    var html_node = toinsert[nchildren-1].children[0];\n",
       "    html_node.innerHTML = output.data[HTML_MIME_TYPE];\n",
       "    var scripts = [];\n",
       "    var nodelist = html_node.querySelectorAll(\"script\");\n",
       "    for (var i in nodelist) {\n",
       "      if (nodelist.hasOwnProperty(i)) {\n",
       "        scripts.push(nodelist[i])\n",
       "      }\n",
       "    }\n",
       "\n",
       "    scripts.forEach( function (oldScript) {\n",
       "      var newScript = document.createElement(\"script\");\n",
       "      var attrs = [];\n",
       "      var nodemap = oldScript.attributes;\n",
       "      for (var j in nodemap) {\n",
       "        if (nodemap.hasOwnProperty(j)) {\n",
       "          attrs.push(nodemap[j])\n",
       "        }\n",
       "      }\n",
       "      attrs.forEach(function(attr) { newScript.setAttribute(attr.name, attr.value) });\n",
       "      newScript.appendChild(document.createTextNode(oldScript.innerHTML));\n",
       "      oldScript.parentNode.replaceChild(newScript, oldScript);\n",
       "    });\n",
       "    if (JS_MIME_TYPE in output.data) {\n",
       "      toinsert[nchildren-1].children[1].textContent = output.data[JS_MIME_TYPE];\n",
       "    }\n",
       "    output_area._hv_plot_id = id;\n",
       "    if ((window.Bokeh !== undefined) && (id in Bokeh.index)) {\n",
       "      window.PyViz.plot_index[id] = Bokeh.index[id];\n",
       "    } else {\n",
       "      window.PyViz.plot_index[id] = null;\n",
       "    }\n",
       "  } else if (output.metadata[EXEC_MIME_TYPE][\"server_id\"] !== undefined) {\n",
       "    var bk_div = document.createElement(\"div\");\n",
       "    bk_div.innerHTML = output.data[HTML_MIME_TYPE];\n",
       "    var script_attrs = bk_div.children[0].attributes;\n",
       "    for (var i = 0; i < script_attrs.length; i++) {\n",
       "      toinsert[toinsert.length - 1].childNodes[1].setAttribute(script_attrs[i].name, script_attrs[i].value);\n",
       "    }\n",
       "    // store reference to server id on output_area\n",
       "    output_area._bokeh_server_id = output.metadata[EXEC_MIME_TYPE][\"server_id\"];\n",
       "  }\n",
       "}\n",
       "\n",
       "/**\n",
       " * Handle when an output is cleared or removed\n",
       " */\n",
       "function handle_clear_output(event, handle) {\n",
       "  var id = handle.cell.output_area._hv_plot_id;\n",
       "  var server_id = handle.cell.output_area._bokeh_server_id;\n",
       "  if (((id === undefined) || !(id in PyViz.plot_index)) && (server_id !== undefined)) { return; }\n",
       "  var comm = window.PyViz.comm_manager.get_client_comm(\"hv-extension-comm\", \"hv-extension-comm\", function () {});\n",
       "  if (server_id !== null) {\n",
       "    comm.send({event_type: 'server_delete', 'id': server_id});\n",
       "    return;\n",
       "  } else if (comm !== null) {\n",
       "    comm.send({event_type: 'delete', 'id': id});\n",
       "  }\n",
       "  delete PyViz.plot_index[id];\n",
       "  if ((window.Bokeh !== undefined) & (id in window.Bokeh.index)) {\n",
       "    var doc = window.Bokeh.index[id].model.document\n",
       "    doc.clear();\n",
       "    const i = window.Bokeh.documents.indexOf(doc);\n",
       "    if (i > -1) {\n",
       "      window.Bokeh.documents.splice(i, 1);\n",
       "    }\n",
       "  }\n",
       "}\n",
       "\n",
       "/**\n",
       " * Handle kernel restart event\n",
       " */\n",
       "function handle_kernel_cleanup(event, handle) {\n",
       "  delete PyViz.comms[\"hv-extension-comm\"];\n",
       "  window.PyViz.plot_index = {}\n",
       "}\n",
       "\n",
       "/**\n",
       " * Handle update_display_data messages\n",
       " */\n",
       "function handle_update_output(event, handle) {\n",
       "  handle_clear_output(event, {cell: {output_area: handle.output_area}})\n",
       "  handle_add_output(event, handle)\n",
       "}\n",
       "\n",
       "function register_renderer(events, OutputArea) {\n",
       "  function append_mime(data, metadata, element) {\n",
       "    // create a DOM node to render to\n",
       "    var toinsert = this.create_output_subarea(\n",
       "    metadata,\n",
       "    CLASS_NAME,\n",
       "    EXEC_MIME_TYPE\n",
       "    );\n",
       "    this.keyboard_manager.register_events(toinsert);\n",
       "    // Render to node\n",
       "    var props = {data: data, metadata: metadata[EXEC_MIME_TYPE]};\n",
       "    render(props, toinsert[0]);\n",
       "    element.append(toinsert);\n",
       "    return toinsert\n",
       "  }\n",
       "\n",
       "  events.on('output_added.OutputArea', handle_add_output);\n",
       "  events.on('output_updated.OutputArea', handle_update_output);\n",
       "  events.on('clear_output.CodeCell', handle_clear_output);\n",
       "  events.on('delete.Cell', handle_clear_output);\n",
       "  events.on('kernel_ready.Kernel', handle_kernel_cleanup);\n",
       "\n",
       "  OutputArea.prototype.register_mime_type(EXEC_MIME_TYPE, append_mime, {\n",
       "    safe: true,\n",
       "    index: 0\n",
       "  });\n",
       "}\n",
       "\n",
       "if (window.Jupyter !== undefined) {\n",
       "  try {\n",
       "    var events = require('base/js/events');\n",
       "    var OutputArea = require('notebook/js/outputarea').OutputArea;\n",
       "    if (OutputArea.prototype.mime_types().indexOf(EXEC_MIME_TYPE) == -1) {\n",
       "      register_renderer(events, OutputArea);\n",
       "    }\n",
       "  } catch(err) {\n",
       "  }\n",
       "}\n"
      ],
      "application/vnd.holoviews_load.v0+json": "\nif ((window.PyViz === undefined) || (window.PyViz instanceof HTMLElement)) {\n  window.PyViz = {comms: {}, comm_status:{}, kernels:{}, receivers: {}, plot_index: []}\n}\n\n\n    function JupyterCommManager() {\n    }\n\n    JupyterCommManager.prototype.register_target = function(plot_id, comm_id, msg_handler) {\n      if (window.comm_manager || ((window.Jupyter !== undefined) && (Jupyter.notebook.kernel != null))) {\n        var comm_manager = window.comm_manager || Jupyter.notebook.kernel.comm_manager;\n        comm_manager.register_target(comm_id, function(comm) {\n          comm.on_msg(msg_handler);\n        });\n      } else if ((plot_id in window.PyViz.kernels) && (window.PyViz.kernels[plot_id])) {\n        window.PyViz.kernels[plot_id].registerCommTarget(comm_id, function(comm) {\n          comm.onMsg = msg_handler;\n        });\n      } else if (typeof google != 'undefined' && google.colab.kernel != null) {\n        google.colab.kernel.comms.registerTarget(comm_id, (comm) => {\n          var messages = comm.messages[Symbol.asyncIterator]();\n          function processIteratorResult(result) {\n            var message = result.value;\n            console.log(message)\n            var content = {data: message.data, comm_id};\n            var buffers = []\n            for (var buffer of message.buffers || []) {\n              buffers.push(new DataView(buffer))\n            }\n            var metadata = message.metadata || {};\n            var msg = {content, buffers, metadata}\n            msg_handler(msg);\n            return messages.next().then(processIteratorResult);\n          }\n          return messages.next().then(processIteratorResult);\n        })\n      }\n    }\n\n    JupyterCommManager.prototype.get_client_comm = function(plot_id, comm_id, msg_handler) {\n      if (comm_id in window.PyViz.comms) {\n        return window.PyViz.comms[comm_id];\n      } else if (window.comm_manager || ((window.Jupyter !== undefined) && (Jupyter.notebook.kernel != null))) {\n        var comm_manager = window.comm_manager || Jupyter.notebook.kernel.comm_manager;\n        var comm = comm_manager.new_comm(comm_id, {}, {}, {}, comm_id);\n        if (msg_handler) {\n          comm.on_msg(msg_handler);\n        }\n      } else if ((plot_id in window.PyViz.kernels) && (window.PyViz.kernels[plot_id])) {\n        var comm = window.PyViz.kernels[plot_id].connectToComm(comm_id);\n        comm.open();\n        if (msg_handler) {\n          comm.onMsg = msg_handler;\n        }\n      } else if (typeof google != 'undefined' && google.colab.kernel != null) {\n        var comm_promise = google.colab.kernel.comms.open(comm_id)\n        comm_promise.then((comm) => {\n          window.PyViz.comms[comm_id] = comm;\n          if (msg_handler) {\n            var messages = comm.messages[Symbol.asyncIterator]();\n            function processIteratorResult(result) {\n              var message = result.value;\n              var content = {data: message.data};\n              var metadata = message.metadata || {comm_id};\n              var msg = {content, metadata}\n              msg_handler(msg);\n              return messages.next().then(processIteratorResult);\n            }\n            return messages.next().then(processIteratorResult);\n          }\n        }) \n        var sendClosure = (data, metadata, buffers, disposeOnDone) => {\n          return comm_promise.then((comm) => {\n            comm.send(data, metadata, buffers, disposeOnDone);\n          });\n        };\n        var comm = {\n          send: sendClosure\n        };\n      }\n      window.PyViz.comms[comm_id] = comm;\n      return comm;\n    }\n    window.PyViz.comm_manager = new JupyterCommManager();\n    \n\n\nvar JS_MIME_TYPE = 'application/javascript';\nvar HTML_MIME_TYPE = 'text/html';\nvar EXEC_MIME_TYPE = 'application/vnd.holoviews_exec.v0+json';\nvar CLASS_NAME = 'output';\n\n/**\n * Render data to the DOM node\n */\nfunction render(props, node) {\n  var div = document.createElement(\"div\");\n  var script = document.createElement(\"script\");\n  node.appendChild(div);\n  node.appendChild(script);\n}\n\n/**\n * Handle when a new output is added\n */\nfunction handle_add_output(event, handle) {\n  var output_area = handle.output_area;\n  var output = handle.output;\n  if ((output.data == undefined) || (!output.data.hasOwnProperty(EXEC_MIME_TYPE))) {\n    return\n  }\n  var id = output.metadata[EXEC_MIME_TYPE][\"id\"];\n  var toinsert = output_area.element.find(\".\" + CLASS_NAME.split(' ')[0]);\n  if (id !== undefined) {\n    var nchildren = toinsert.length;\n    var html_node = toinsert[nchildren-1].children[0];\n    html_node.innerHTML = output.data[HTML_MIME_TYPE];\n    var scripts = [];\n    var nodelist = html_node.querySelectorAll(\"script\");\n    for (var i in nodelist) {\n      if (nodelist.hasOwnProperty(i)) {\n        scripts.push(nodelist[i])\n      }\n    }\n\n    scripts.forEach( function (oldScript) {\n      var newScript = document.createElement(\"script\");\n      var attrs = [];\n      var nodemap = oldScript.attributes;\n      for (var j in nodemap) {\n        if (nodemap.hasOwnProperty(j)) {\n          attrs.push(nodemap[j])\n        }\n      }\n      attrs.forEach(function(attr) { newScript.setAttribute(attr.name, attr.value) });\n      newScript.appendChild(document.createTextNode(oldScript.innerHTML));\n      oldScript.parentNode.replaceChild(newScript, oldScript);\n    });\n    if (JS_MIME_TYPE in output.data) {\n      toinsert[nchildren-1].children[1].textContent = output.data[JS_MIME_TYPE];\n    }\n    output_area._hv_plot_id = id;\n    if ((window.Bokeh !== undefined) && (id in Bokeh.index)) {\n      window.PyViz.plot_index[id] = Bokeh.index[id];\n    } else {\n      window.PyViz.plot_index[id] = null;\n    }\n  } else if (output.metadata[EXEC_MIME_TYPE][\"server_id\"] !== undefined) {\n    var bk_div = document.createElement(\"div\");\n    bk_div.innerHTML = output.data[HTML_MIME_TYPE];\n    var script_attrs = bk_div.children[0].attributes;\n    for (var i = 0; i < script_attrs.length; i++) {\n      toinsert[toinsert.length - 1].childNodes[1].setAttribute(script_attrs[i].name, script_attrs[i].value);\n    }\n    // store reference to server id on output_area\n    output_area._bokeh_server_id = output.metadata[EXEC_MIME_TYPE][\"server_id\"];\n  }\n}\n\n/**\n * Handle when an output is cleared or removed\n */\nfunction handle_clear_output(event, handle) {\n  var id = handle.cell.output_area._hv_plot_id;\n  var server_id = handle.cell.output_area._bokeh_server_id;\n  if (((id === undefined) || !(id in PyViz.plot_index)) && (server_id !== undefined)) { return; }\n  var comm = window.PyViz.comm_manager.get_client_comm(\"hv-extension-comm\", \"hv-extension-comm\", function () {});\n  if (server_id !== null) {\n    comm.send({event_type: 'server_delete', 'id': server_id});\n    return;\n  } else if (comm !== null) {\n    comm.send({event_type: 'delete', 'id': id});\n  }\n  delete PyViz.plot_index[id];\n  if ((window.Bokeh !== undefined) & (id in window.Bokeh.index)) {\n    var doc = window.Bokeh.index[id].model.document\n    doc.clear();\n    const i = window.Bokeh.documents.indexOf(doc);\n    if (i > -1) {\n      window.Bokeh.documents.splice(i, 1);\n    }\n  }\n}\n\n/**\n * Handle kernel restart event\n */\nfunction handle_kernel_cleanup(event, handle) {\n  delete PyViz.comms[\"hv-extension-comm\"];\n  window.PyViz.plot_index = {}\n}\n\n/**\n * Handle update_display_data messages\n */\nfunction handle_update_output(event, handle) {\n  handle_clear_output(event, {cell: {output_area: handle.output_area}})\n  handle_add_output(event, handle)\n}\n\nfunction register_renderer(events, OutputArea) {\n  function append_mime(data, metadata, element) {\n    // create a DOM node to render to\n    var toinsert = this.create_output_subarea(\n    metadata,\n    CLASS_NAME,\n    EXEC_MIME_TYPE\n    );\n    this.keyboard_manager.register_events(toinsert);\n    // Render to node\n    var props = {data: data, metadata: metadata[EXEC_MIME_TYPE]};\n    render(props, toinsert[0]);\n    element.append(toinsert);\n    return toinsert\n  }\n\n  events.on('output_added.OutputArea', handle_add_output);\n  events.on('output_updated.OutputArea', handle_update_output);\n  events.on('clear_output.CodeCell', handle_clear_output);\n  events.on('delete.Cell', handle_clear_output);\n  events.on('kernel_ready.Kernel', handle_kernel_cleanup);\n\n  OutputArea.prototype.register_mime_type(EXEC_MIME_TYPE, append_mime, {\n    safe: true,\n    index: 0\n  });\n}\n\nif (window.Jupyter !== undefined) {\n  try {\n    var events = require('base/js/events');\n    var OutputArea = require('notebook/js/outputarea').OutputArea;\n    if (OutputArea.prototype.mime_types().indexOf(EXEC_MIME_TYPE) == -1) {\n      register_renderer(events, OutputArea);\n    }\n  } catch(err) {\n  }\n}\n"
     },
     "metadata": {},
     "output_type": "display_data"
    },
    {
     "data": {
      "text/html": [
       "<style>.bk-root, .bk-root .bk:before, .bk-root .bk:after {\n",
       "  font-family: var(--jp-ui-font-size1);\n",
       "  font-size: var(--jp-ui-font-size1);\n",
       "  color: var(--jp-ui-font-color1);\n",
       "}\n",
       "</style>"
      ]
     },
     "metadata": {},
     "output_type": "display_data"
    },
    {
     "name": "stdout",
     "output_type": "stream",
     "text": [
      "Launching server at http://localhost:64690\n"
     ]
    },
    {
     "data": {
      "text/plain": [
       "<bokeh.server.server.Server at 0x165aa385e50>"
      ]
     },
     "execution_count": 28,
     "metadata": {},
     "output_type": "execute_result"
    }
   ],
   "source": [
    "import panel as pn\n",
    "\n",
    "sp = spotipy.Spotify(auth=access_token)\n",
    "\n",
    "# Cargar la extensión de Panel\n",
    "pn.extension()\n",
    "\n",
    "# Crear widgets\n",
    "search_box = pn.widgets.TextInput(name='Buscar canción', value='')\n",
    "search_button = pn.widgets.Button(name='Buscar')\n",
    "\n",
    "# Crear paneles vacíos para mostrar información\n",
    "track_info_pane = pn.pane.Markdown(\"Información de la canción:\")\n",
    "artist_info_pane = pn.pane.Markdown(\"Información del artista:\")\n",
    "\n",
    "# Definir funciones de búsqueda y actualización\n",
    "def search_track(event):\n",
    "    query = search_box.value\n",
    "    results = sp.search(q=query, type='track', limit=1)\n",
    "\n",
    "    if results['tracks']['items']:\n",
    "        track = results['tracks']['items'][0]\n",
    "        track_name = track['name']\n",
    "        artists = ', '.join([artist['name'] for artist in track['artists']])\n",
    "        popularity = track['popularity']\n",
    "        \n",
    "        track_info = f\"**Canción:** {track_name}\\n**Artistas:** {artists}\\n**Popularidad:** {popularity}%\"\n",
    "        track_info_pane.object = track_info\n",
    "\n",
    "        artist_id = track['artists'][0]['id']\n",
    "        artist = sp.artist(artist_id)\n",
    "        artist_name = artist['name']\n",
    "        genres = ', '.join(artist['genres'])\n",
    "        \n",
    "        artist_info = f\"**Artista:** {artist_name}\\n**Géneros:** {genres}\"\n",
    "        artist_info_pane.object = artist_info\n",
    "    else:\n",
    "        track_info_pane.object = \"No se encontró ninguna canción.\"\n",
    "\n",
    "# Conectar la función de búsqueda al botón\n",
    "search_button.on_click(search_track)\n",
    "\n",
    "# Crear el layout del dashboard\n",
    "dashboard = pn.Column(\n",
    "    \"# Spotify Dashboard\",\n",
    "    search_box,\n",
    "    search_button,\n",
    "    track_info_pane,\n",
    "    artist_info_pane\n",
    ")\n",
    "\n",
    "# Abrir el dashboard en una nueva pestaña\n",
    "dashboard.show(embed=True)\n"
   ]
  },
  {
   "cell_type": "markdown",
   "id": "921944ba",
   "metadata": {},
   "source": [
    "El panel nos sale en una nueva pestaña y los resultados se verían de la siguiente forma:"
   ]
  },
  {
   "cell_type": "markdown",
   "id": "345bcbb0",
   "metadata": {},
   "source": [
    "![title](./imagenes/im1.png)"
   ]
  },
  {
   "cell_type": "markdown",
   "id": "3dde1793",
   "metadata": {},
   "source": [
    "![title](./imagenes/im2.png)"
   ]
  },
  {
   "cell_type": "markdown",
   "id": "bed186e6",
   "metadata": {},
   "source": [
    "# 5. Conclusiones"
   ]
  },
  {
   "cell_type": "markdown",
   "id": "03349879",
   "metadata": {},
   "source": [
    "Con este estudio hemos podido observar algunas características interesantes de una serie de playlists. \n",
    "- Hemos visto que canciones en escala menor eran más populares que en escala mayor.\n",
    "- Hemos podido mostrar top de canciones en función de variables como la popularidad o el nivel de positividad.\n",
    "- Obtener máximo y mínimos, además de ordenar registros según el número de canciones del artista.\n",
    "\n",
    "En resumen, con este estudio se pretende mostrar herramientas y formas para estudiar los gustos de un usuario en una aplicación de música como es Spotify. Esto puede llegar a permitir mejoras en campañas de marketing, en sistemas de recomendación de canciones al usuario o incluso en la composición de canciones. \n",
    "\n",
    "Lo que está claro es que el análisis de datos, y en concreto, el análisis de los gustos del cliente es un campo clave para las empresas de cualquier sector, incluso el de la música.\n",
    "\n",
    "Para finalizar se muestran un par de ejemplo sobre como mostrar resultados gráficamente y se deja abierta la continuación del panel de interacción con el usuario."
   ]
  }
 ],
 "metadata": {
  "kernelspec": {
   "display_name": "Python 3 (ipykernel)",
   "language": "python",
   "name": "python3"
  },
  "language_info": {
   "codemirror_mode": {
    "name": "ipython",
    "version": 3
   },
   "file_extension": ".py",
   "mimetype": "text/x-python",
   "name": "python",
   "nbconvert_exporter": "python",
   "pygments_lexer": "ipython3",
   "version": "3.9.12"
  }
 },
 "nbformat": 4,
 "nbformat_minor": 5
}
